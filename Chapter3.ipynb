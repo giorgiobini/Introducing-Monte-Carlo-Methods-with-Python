{
 "cells": [
  {
   "cell_type": "markdown",
   "id": "9d7507c0",
   "metadata": {},
   "source": [
    "# Monte Carlo Integration"
   ]
  },
  {
   "cell_type": "code",
   "execution_count": 1,
   "id": "ed845d59",
   "metadata": {},
   "outputs": [],
   "source": [
    "import numpy as np\n",
    "from scipy.stats import gamma\n",
    "from scipy.special import loggamma\n",
    "import scipy\n",
    "import matplotlib.pyplot as plt"
   ]
  },
  {
   "cell_type": "markdown",
   "id": "0860f0db",
   "metadata": {},
   "source": [
    "##### Example 3.1 and Figure 3.1"
   ]
  },
  {
   "cell_type": "markdown",
   "id": "885b622f",
   "metadata": {},
   "source": [
    "loggamma (lgamma in R) function returns the natural logarithm of the absolute value of gamma function (log gamma function) of the argument. The log gamma function of x is defined as:\n",
    "\n",
    "$\\Gamma(\\lambda) = \\ln \\big | \\int_{0}^{\\infty} x^{\\lambda-1} \\exp (-x) \\mathrm{d} x \\big |$"
   ]
  },
  {
   "cell_type": "code",
   "execution_count": 2,
   "id": "117d1f8b",
   "metadata": {},
   "outputs": [],
   "source": [
    "lambda_values = np.linspace(0.01, 10, 100)"
   ]
  },
  {
   "cell_type": "code",
   "execution_count": 3,
   "id": "e30f45b7",
   "metadata": {},
   "outputs": [],
   "source": [
    "def gamma_fun(x, lambda_value):\n",
    "    return x**(lambda_value-1)*np.exp(-x)\n",
    "def integral_on_gamma(lambda_value):\n",
    "    return scipy.integrate.quad(gamma_fun, 0, np.inf, args = lambda_value)[0]"
   ]
  },
  {
   "cell_type": "code",
   "execution_count": 4,
   "id": "5767fe42",
   "metadata": {},
   "outputs": [],
   "source": [
    "gamma_integrals = np.vectorize(integral_on_gamma)(lambda_values)\n",
    "scipy_loggamma = loggamma(lambda_values)"
   ]
  },
  {
   "cell_type": "code",
   "execution_count": 5,
   "id": "9831e3c2",
   "metadata": {},
   "outputs": [
    {
     "data": {
      "text/plain": [
       "Text(0.5, 1.0, 'Integrate.quad function VS direct log-gamma calculation')"
      ]
     },
     "execution_count": 5,
     "metadata": {},
     "output_type": "execute_result"
    },
    {
     "data": {
      "image/png": "[encoded data removed]",
      "text/plain": [
       "<Figure size 504x360 with 1 Axes>"
      ]
     },
     "metadata": {
      "needs_background": "light"
     },
     "output_type": "display_data"
    }
   ],
   "source": [
    "fig, ax = plt.subplots(figsize=(7,5))\n",
    "ax.scatter(x = np.log(gamma_integrals), y = scipy_loggamma)\n",
    "ax.set_xlabel('log(integrate.quad(f))')\n",
    "ax.set_ylabel('Scipy log-gamma')\n",
    "ax.set_title('Integrate.quad function VS direct log-gamma calculation')"
   ]
  },
  {
   "cell_type": "code",
   "execution_count": null,
   "id": "50757fd4",
   "metadata": {},
   "outputs": [],
   "source": []
  }
 ],
 "metadata": {
  "kernelspec": {
   "display_name": "Python 3 (ipykernel)",
   "language": "python",
   "name": "python3"
  },
  "language_info": {
   "codemirror_mode": {
    "name": "ipython",
    "version": 3
   },
   "file_extension": ".py",
   "mimetype": "text/x-python",
   "name": "python",
   "nbconvert_exporter": "python",
   "pygments_lexer": "ipython3",
   "version": "3.8.8"
  }
 },
 "nbformat": 4,
 "nbformat_minor": 5
}
